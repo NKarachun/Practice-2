{
  "nbformat": 4,
  "nbformat_minor": 0,
  "metadata": {
    "colab": {
      "name": "Practice_10-11_KM_01_.ipynb",
      "provenance": [],
      "collapsed_sections": []
    },
    "kernelspec": {
      "name": "python3",
      "display_name": "Python 3.6.5 64-bit",
      "metadata": {
        "interpreter": {
          "hash": "4c65b98e956c6ae24f8ae0bc56d1e465ff92310dbdec0a4bd6b48ffdf1441c98"
        }
      }
    }
  },
  "cells": [
    {
      "cell_type": "markdown",
      "metadata": {
        "id": "FMqboNwO4rVs"
      },
      "source": [
        "# **Курс \"Програмування на мові Python\"**\n",
        "\n",
        "##### Викладачі:\n",
        "##### Борисенко Павло Борисович\n",
        "##### Щьоголєв Максим Олегович\n"
      ]
    },
    {
      "cell_type": "markdown",
      "metadata": {
        "id": "A2T6MigL5Z06"
      },
      "source": [
        "## **Практичні зайняття №10-11**\n",
        "\n",
        "### Тема: \"Ітератори та генератори. Декоратори\""
      ]
    },
    {
      "cell_type": "markdown",
      "metadata": {
        "id": "cfCdgK2zXm7e"
      },
      "source": [
        "### **Завдання 1 (2 бали)**\n",
        "\n",
        "Розрахуйте коефієнти розкладу біному Ньютона за допомогою генератора (https://uk.wikipedia.org/wiki/%D0%91%D1%96%D0%BD%D0%BE%D0%BC_%D0%9D%D1%8C%D1%8E%D1%82%D0%BE%D0%BD%D0%B0).\n",
        "\n",
        "1. Степінь многочлена користувач має вводити з клавіатури (невід'ємне ціле число).\n",
        "\n",
        "2. Програма має підраховувати біноміальні коефіцієнти для біномів усіх степенів, починаючи від 0 і закінчуючи тим, який ввів користувач.\n",
        "\n",
        "3. Коефіцієнти мають виводитись у вигляді трикутника Паскаля.\n",
        "\n",
        "Наприклад, якщо користувач введе число 5, програма має вивести результат:\n",
        "\n",
        "1\n",
        "\n",
        "1 1\n",
        "\n",
        "1 2 1\n",
        "\n",
        "1 3 3 1\n",
        "\n",
        "1 4 6 4 1\n",
        "\n",
        "1 5 10 10 5 1\n"
      ]
    },
    {
      "source": [
        "# import math\n",
        "\n",
        "n = input('Enter the degree of the polynomial:')\n",
        "try:\n",
        "    n = int(n)\n",
        "except ValueError:\n",
        "    print('It has to be an integer number!')\n",
        "    n = int(input('Enter n: '))\n",
        "\n",
        "try:\n",
        "    if n <= 0:\n",
        "        raise ValueError('The number has to be more than zero!')\n",
        "except ValueError as ve:\n",
        "    print(ve)\n",
        "    n = int(input('Enter n: '))\n",
        "\n",
        "def row(n):\n",
        "    list = []\n",
        "    for k in range(n):\n",
        "        if k == 0 or k == n - 1:\n",
        "            list.append(1)\n",
        "        else:\n",
        "            r = row(n - 1)\n",
        "            list.append(r[k - 1] + r[k])\n",
        "    return list\n",
        "\n",
        "\n",
        "def triangle(n):\n",
        "    result = []\n",
        "    for k in range(n):\n",
        "        result.append(row(k + 1))\n",
        "    for i in result:\n",
        "        print('\\n')\n",
        "        for j in i:\n",
        "            print(j, end = ' ')\n",
        "            \n",
        "triangle(n + 1)\n",
        "\n",
        "\n",
        "\n",
        "# for k in range(n + 1):\n",
        "    # bin_koef = math.factorial(n) / (math.factorial(k) * math.factorial(n - k))\n",
        "    # bin_koef = int(bin_koef)\n",
        "    # print(bin_koef, end = ' ')"
      ],
      "cell_type": "code",
      "metadata": {
        "id": "Bku8v9CjE_Qc",
        "tags": []
      },
      "execution_count": 14,
      "outputs": [
        {
          "output_type": "stream",
          "name": "stdout",
          "text": [
            "\n\n1 \n\n1 1 \n\n1 2 1 \n\n1 3 3 1 \n\n1 4 6 4 1 \n\n1 5 10 10 5 1 "
          ]
        }
      ]
    },
    {
      "cell_type": "markdown",
      "metadata": {
        "id": "oqXwIz3iuPRe"
      },
      "source": [
        "### **Завдання 2 (4 бали)**\n",
        "\n",
        "Більшість друкованих книг (особливо це стосується книг у твердій палітурці) складаються із зошитів. Припустимо, що в друкарні текст друкується на листах паперу удвічі більших за звичайний книжковий формат. Потім ці листи складаються вдвічі, з них формуються зошити, які потім зшиваються у блок. Зшиті зошити зазвичай складаються з 8, 12 або 16 листів (відповідно 16, 24 або 32 сторінок) кожен.\n",
        "\n",
        "Розглянемо конкретний приклад. \n",
        "\n",
        "Припустимо, що кожен зшитий зошит нашої книги складається з 8 листів (16 сторінок). Якщо уявити великі листи, з яких потім складаються зошити, то на кожному таком листі буде по 4 сторінки книги. У нашій книзі таких великих листів буде 4. Розглянемо перший лист. З одного боку на ньому будуть надруковані сторінки 16 та 1, з іншого - 2 та 15. На другому листі з одного боку будуть надруковані сторінки 14 та 3, з іншого - 4 та 13.\n",
        "\n",
        "**Написати програму, яка визначатиме послідовність сторінок, що будуть надруковані на кожному великому листі.**\n",
        "\n",
        "1. Користувач має вводити з клавіатури три значення: кількість сторінок у книзі (не більше 1280), кількість сторінок у кожному зошиті цієї книги (потрібно буде обрати один з трьох варіантів: 16, 24 або 32) та параметр 0 або 1 (пояснення у п. 5).\n",
        "\n",
        "2. Зверніть увагу на те, що загальна кількість сторінок у книзі має бути кратною кількості сторінок у зошиті. Якщо користувач введе число, що не задовольняє цій умові, програма повинна припинити роботу або запропонувати користувачеві ввесте інше значення. Зауважте також, що 1280 не ділиться на 24.\n",
        "\n",
        "3. Зверніть увагу на те, що на великих листах поворот аркуша відбувається за коротким краєм. Отже, якщо з одного боку аркуша надруковано сторінки 16 та 1, то з іншого 2 та 15 (а не 15, 2), якщо дивитись зліва направо.\n",
        "\n",
        "4. Функція, яка визначатиме послідовність книжкових сторінок, має виводити на екран рядок за рядком номери сторінок кожного зошита, а також кількість зошитів у книзі.\n",
        "\n",
        "5. Створіть функцію-декоратор, яка прийматиме на вхід параметр 0 або 1, конвертований у False або True відповідно, та навісьте його на попередню функцію. Якщо параметр дорівнює False, додаткові функції декоратора не повинні виконуватись, тобто має виконатись лише функція з п. 4. Декоратор повинен створювати список усіх сторінок у потрібній послідовності, причому номери сторінок кожного зошита мають зберігатись в окремому вкладеному списку. Для 16-сторінкового зошита список повинен мати вигляд:\n",
        "\n",
        "`[[16, 1, 2, 15, 14, 3, 4, 13, ..., 10, 7, 8, 9], [32, 17, 18, 31, ...], ... ]`\n",
        "\n",
        "**Бонусне завдання (за бажанням)**\n",
        "\n",
        "6. Замість функції з п. 4 створіть генератор, який буде визначати послідовність книжкових сторінок для кожного зошита. Ці рядки можна потім вивести або у циклі, або за допомогою функції next(). Функція-декоратор має працювати з цим генератором так само, як і зі звичайною функцією."
      ]
    },
    {
      "cell_type": "code",
      "metadata": {
        "id": "yiRr2CqMWxLA"
      },
      "source": [
        "'''\n",
        "def check_book(book_pages):\n",
        "    try:\n",
        "        book_pages = int(book_pages)\n",
        "        if not 0 < book_pages <= 1280:\n",
        "            raise ValueError\n",
        "    except ValueError:\n",
        "        print('It has to be an integer number between 0 and 1280!')\n",
        "        book_pages = int(input('Enter a number of pages in the book:'))\n",
        "        return book_pages\n",
        "\n",
        "def check_notebook(notebook_pages):\n",
        "    try:\n",
        "        notebook_pages = int(notebook_pages)\n",
        "        if notebook_pages != 16 and notebook_pages != 24 and notebook_pages != 32:\n",
        "            raise ValueError('The number have to be 16, 24 or 32!')\n",
        "        elif notebook_pages <= 0:\n",
        "            raise ValueError('The number should be positive!')\n",
        "    except ValueError as ve:\n",
        "        print('It has to be an integer number!', end = ' ')\n",
        "        print(ve)\n",
        "        notebook_pages = int(input('Enter a number of pages in the notebook(16, 24 or 32):'))\n",
        "        return notebook_pages\n",
        "'''\n",
        "\n",
        "def check(book_pages, notebook_pages):\n",
        "    if book_pages % notebook_pages != 0:\n",
        "        print('The number of book pages (', book_pages, ') should be divided by', notebook_pages)\n",
        "        x = input(\"What do you want to change: number of book pages or number of notebok?\\n Enter 'b' or 'n':\")\n",
        "        if x == 'b':\n",
        "            book_pages = int(input('Enter a new number of pages in the book:'))\n",
        "            #check_book(book_pages)\n",
        "            check(book_pages, notebook_pages)\n",
        "        elif x == 'n':\n",
        "            notebook_pages = int(input('Enter a new number of pages in the notebook(16, 24 or 32):'))\n",
        "            #check_notebook(notebook_pages)\n",
        "            check(book_pages, notebook_pages)\n",
        "        else:\n",
        "            print('Your answer is not defined!')\n",
        "    return book_pages, notebook_pages\n",
        "\n",
        "\n",
        "book_pages = input('Enter a number of pages in the book:')\n",
        "try:\n",
        "    book_pages = int(book_pages)\n",
        "    if not 0 < book_pages <= 1280:\n",
        "        raise ValueError\n",
        "except ValueError:\n",
        "    print('It has to be an integer number between 0 and 1280!')\n",
        "    book_pages = int(input('Enter a number of pages in the book:'))\n",
        "\n",
        "\n",
        "notebook_pages = input('Enter a number of pages in the notebook(16, 24 or 32):')\n",
        "try:\n",
        "    notebook_pages = int(notebook_pages)\n",
        "    if notebook_pages != 16 and notebook_pages != 24 and notebook_pages != 32:\n",
        "        raise ValueError('The number have to be 16, 24 or 32!')\n",
        "    elif notebook_pages <= 0:\n",
        "        raise ValueError('The number should be positive!')\n",
        "except ValueError as ve:\n",
        "    print('It has to be an integer number!', end=' ')\n",
        "    print(ve)\n",
        "    notebook_pages = int(input('Enter a number of pages in the notebook(16, 24 or 32):'))\n",
        "check(book_pages, notebook_pages)\n",
        "\n",
        "param = input('Enter you parameter (0 or 1):')\n",
        "try:\n",
        "    param = int(param)\n",
        "    if param != 0 and param != 1:\n",
        "        raise ValueError\n",
        "except ValueError:\n",
        "    print('It has to be 0 or 1!')\n",
        "    param = int(input('Enter you parameter (0 or 1):'))\n",
        "\n",
        "\n",
        "def paper(book_pages, notebook_pages):\n",
        "    papers_in_book = book_pages / 4\n",
        "    papers_in_notebook = notebook_pages / 4\n",
        "    k = 0\n",
        "    while k != notebook_pages + 1:\n",
        "        list = []\n",
        "        for i in notebook_pages:\n",
        "            list.append(i)\n",
        "        l = []\n",
        "        l.append(list[-1 - k], list[k], list[k + 1], list[-2 - k])\n",
        "        k += 1\n",
        "        print(l)\n",
        "\n",
        "\n",
        "paper(book_pages, notebook_pages)\n",
        "\n"
      ],
      "execution_count": 26,
      "outputs": [
        {
          "output_type": "error",
          "ename": "TypeError",
          "evalue": "'int' object is not iterable",
          "traceback": [
            "\u001b[1;31m---------------------------------------------------------------------------\u001b[0m",
            "\u001b[1;31mTypeError\u001b[0m                                 Traceback (most recent call last)",
            "\u001b[1;32m<ipython-input-26-50a0dc944f5b>\u001b[0m in \u001b[0;36m<module>\u001b[1;34m\u001b[0m\n\u001b[0;32m     88\u001b[0m \u001b[1;33m\u001b[0m\u001b[0m\n\u001b[0;32m     89\u001b[0m \u001b[1;33m\u001b[0m\u001b[0m\n\u001b[1;32m---> 90\u001b[1;33m \u001b[0mpaper\u001b[0m\u001b[1;33m(\u001b[0m\u001b[0mbook_pages\u001b[0m\u001b[1;33m,\u001b[0m \u001b[0mnotebook_pages\u001b[0m\u001b[1;33m)\u001b[0m\u001b[1;33m\u001b[0m\u001b[0m\n\u001b[0m\u001b[0;32m     91\u001b[0m \u001b[1;33m\u001b[0m\u001b[0m\n",
            "\u001b[1;32m<ipython-input-26-50a0dc944f5b>\u001b[0m in \u001b[0;36mpaper\u001b[1;34m(book_pages, notebook_pages)\u001b[0m\n\u001b[0;32m     80\u001b[0m     \u001b[1;32mwhile\u001b[0m \u001b[0mk\u001b[0m \u001b[1;33m!=\u001b[0m \u001b[0mnotebook_pages\u001b[0m \u001b[1;33m+\u001b[0m \u001b[1;36m1\u001b[0m\u001b[1;33m:\u001b[0m\u001b[1;33m\u001b[0m\u001b[0m\n\u001b[0;32m     81\u001b[0m         \u001b[0mlist\u001b[0m \u001b[1;33m=\u001b[0m \u001b[1;33m[\u001b[0m\u001b[1;33m]\u001b[0m\u001b[1;33m\u001b[0m\u001b[0m\n\u001b[1;32m---> 82\u001b[1;33m         \u001b[1;32mfor\u001b[0m \u001b[0mi\u001b[0m \u001b[1;32min\u001b[0m \u001b[0mnotebook_pages\u001b[0m\u001b[1;33m:\u001b[0m\u001b[1;33m\u001b[0m\u001b[0m\n\u001b[0m\u001b[0;32m     83\u001b[0m             \u001b[0mlist\u001b[0m\u001b[1;33m.\u001b[0m\u001b[0mappend\u001b[0m\u001b[1;33m(\u001b[0m\u001b[0mi\u001b[0m\u001b[1;33m)\u001b[0m\u001b[1;33m\u001b[0m\u001b[0m\n\u001b[0;32m     84\u001b[0m         \u001b[0ml\u001b[0m \u001b[1;33m=\u001b[0m \u001b[1;33m[\u001b[0m\u001b[1;33m]\u001b[0m\u001b[1;33m\u001b[0m\u001b[0m\n",
            "\u001b[1;31mTypeError\u001b[0m: 'int' object is not iterable"
          ]
        }
      ]
    },
    {
      "cell_type": "code",
      "execution_count": null,
      "metadata": {},
      "outputs": [],
      "source": []
    }
  ]
}