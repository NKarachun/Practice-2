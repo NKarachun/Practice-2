{
  "nbformat": 4,
  "nbformat_minor": 0,
  "metadata": {
    "colab": {
      "name": "Practice_7_KM-01_.ipynb",
      "provenance": [],
      "collapsed_sections": []
    },
    "kernelspec": {
      "name": "python3",
      "display_name": "Python 3.6.5 64-bit",
      "metadata": {
        "interpreter": {
          "hash": "4c65b98e956c6ae24f8ae0bc56d1e465ff92310dbdec0a4bd6b48ffdf1441c98"
        }
      }
    }
  },
  "cells": [
    {
      "cell_type": "markdown",
      "metadata": {
        "id": "FMqboNwO4rVs"
      },
      "source": [
        "# **Курс \"Програмування на мові Python\"**\n",
        "\n",
        "##### Викладачі:\n",
        "##### Борисенко Павло Борисович\n",
        "##### Щьоголєв Максим Олегович\n"
      ]
    },
    {
      "cell_type": "markdown",
      "metadata": {
        "id": "A2T6MigL5Z06"
      },
      "source": [
        "## **Практичне зайняття №9**\n",
        "\n",
        "### Тема: \"Лямбда-функції. Функції вищих порядків\""
      ]
    },
    {
      "cell_type": "markdown",
      "metadata": {
        "id": "cfCdgK2zXm7e"
      },
      "source": [
        "### **Завдання 1 (1 бал)**\n",
        "\n",
        "Продавець роздрібного товару влаштовує розпродаж. Для всіх товарів знижка однакова - 60%. Щоб вивісити нові цінники, продавець хоче скласти таблицю, в якій для кожного товару буде підрахована його нова вартість та сума знижки.\n",
        "\n",
        "Написати програму, яка буде генерувати таку таблицю. Вартість одиниць товарів до розпродажу подано у списку products_list. \n",
        "\n",
        "1. Для підрахунку невідомих значень повинні використовуватись вбудовані функції вищих порядків.\n",
        "\n",
        "2. Вартість з урахуванням знижки та суми знижок для кожного товару повинні зберігатись у двох окремих списках. Порядок товарів у нових списках повинен бути такий самий, як і в списку products_list.\n",
        "\n",
        "3. Кожне підраховане числове значення має бути округлене до сотих.\n",
        "\n",
        "4. Дані повинні виводитись у вигляді:\n",
        "\n",
        "**Discount table:**\n",
        "\n",
        "**29.25 11.7 17.55**\n",
        "\n",
        "**48.99 19.6 29.39**\n",
        "\n",
        "**...**\n",
        "\n",
        "\n",
        "products_list = [[29.25, 48.99, 99.98, 124.65, 214.30, 543.90, 799.85]]\n"
      ]
    },
    {
      "cell_type": "code",
      "execution_count": 26,
      "metadata": {},
      "outputs": [
        {
          "output_type": "stream",
          "name": "stdout",
          "text": [
            "New price list:  [17.55, 29.39, 59.99, 74.79, 128.58, 326.34, 479.91] \n\nDiscount list:  [11.7, 19.6, 39.99, 49.86, 85.72, 217.56, 319.94] \n\nDiscount table: \n\n29.25   11.7   17.55 \n\n48.99   19.6   29.39 \n\n99.98   39.99   59.99 \n\n124.65   49.86   74.79 \n\n214.3   85.72   128.58 \n\n543.9   217.56   326.34 \n\n799.85   319.94   479.91 \n\nproducts_list =  [29.25, 48.99, 99.98, 124.65, 214.3, 543.9, 799.85]\n"
          ]
        }
      ],
      "source": [
        "products_list = [29.25, 48.99, 99.98, 124.65, 214.30, 543.90, 799.85]\n",
        "\n",
        "def new_price(i):\n",
        "    i = round(i * 0.6, 2)\n",
        "    return i\n",
        "\n",
        "def discount(i):\n",
        "    i = round(i * 0.4, 2)\n",
        "    return i\n",
        "\n",
        "new_price_list = list(map(new_price, products_list))\n",
        "discount_list = list(map(discount, products_list))\n",
        "\n",
        "print('New price list: ', new_price_list, '\\n')\n",
        "print('Discount list: ', discount_list, '\\n')\n",
        "\n",
        "print('Discount table:', \"\\n\")\n",
        "def table(i):\n",
        "    d = round(i * 0.4, 2)\n",
        "    n = round(i * 0.6, 2)\n",
        "    print(i, \" \", d, \" \", n, '\\n')\n",
        "    \n",
        "discount_table = list(map(table, products_list))\n",
        "\n",
        "print('products_list = ', products_list)"
      ]
    },
    {
      "source": [
        "### **Завдання 2 (2 бали)**\n",
        "\n",
        "Зазвичай рік має 365 днів. Однак у високосні роки додається ще один день - 29 лютого. Правила визначення високосного року такі:\n",
        "\n",
        "- Будь-який рік, що ділиться на 400 - високосний.\n",
        "\n",
        "- З тих років, що залишились, будь-який рік, що ділиться на 100 - **не** високосний.\n",
        "\n",
        "- З тих років, що залишились, будь-який рік, що ділиться на 4 - високосний.\n",
        "\n",
        "- Усі інші роки, що залишились - **не** високосні.\n",
        "\n",
        "1) Створіть функцію, в якій за допомогою вбудованих функцій вищих порядків будуть визначатися високосні роки серед перелічених років у списку years. Створена функція має повертати список високосних років.\n",
        "\n",
        "2) Створіть функцію вищих порядків, яка прийматиме на вхід попередню функцію та визначатиме кількість днів у місяці. Також функція повинна приймати на вхід ще 2 параметри: ціле число від 1 до 12 (місяць) та рік, як ціле чотирицифрове число. Ці значення корисувач має вводити з клавіатури. Перевірку введених даних слід виконувати поза межами функцій."
      ],
      "cell_type": "markdown",
      "metadata": {}
    },
    {
      "cell_type": "code",
      "execution_count": 50,
      "metadata": {},
      "outputs": [
        {
          "output_type": "stream",
          "name": "stdout",
          "text": [
            "Leap years:  [1904, 1908, 1912, 1916, 1920, 1924, 1928, 1932, 1936, 1940, 1944, 1948, 1952, 1956, 1960, 1964, 1968, 1972, 1976, 1980, 1984, 1988, 1992, 1996, 2000, 2004, 2008, 2012, 2016, 2020]\n",
            "That is not the number of month!\n",
            "This year is not in range!\n",
            "Year: 2020 month: 2 days: 29\n"
          ]
        }
      ],
      "source": [
        "import numpy as np\n",
        "\n",
        "years = np.arange(1900, 2020+1, 1)\n",
        "\n",
        "def leap_years(i):\n",
        "    if i % 400 == 0:\n",
        "        return i\n",
        "    elif i % 100 == 0 and i % 400 != 0:\n",
        "        pass\n",
        "    elif i % 4 == 0:\n",
        "        return i\n",
        "    \n",
        "leap_years_list = list(filter(leap_years, years))\n",
        "print('Leap years: ', leap_years_list)\n",
        "\n",
        "def february_year(num):\n",
        "    if num in leap_years_list:\n",
        "        return 29\n",
        "    else:\n",
        "        return 28\n",
        "\n",
        "def days(m, y):\n",
        "    if m == 1 or m == 3 or m == 5 or m == 7 or m == 8 or m == 10 or m == 12:\n",
        "        return 31\n",
        "    elif m == 2:\n",
        "        return february_year(y)\n",
        "    else:\n",
        "        return 30\n",
        "\n",
        "month = int(input('Enter number of a month: '))\n",
        "if month < 1 or month > 12:\n",
        "    print('That is not the number of month!')\n",
        "    month = int(input('Enter number that is between 1 and 12: '))\n",
        "year = int(input('Enter number of the year: '))\n",
        "if year not in years:\n",
        "    print('This year is not in range!')\n",
        "    year = int(input('Enter number of the year that is between 1900 and 2020: '))\n",
        "\n",
        "print('Year:', year, 'month:', month, 'days:', days(month, year))"
      ]
    }
  ]
}