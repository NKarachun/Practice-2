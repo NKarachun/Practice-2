{
  "nbformat": 4,
  "nbformat_minor": 0,
  "metadata": {
    "colab": {
      "name": "Practice_6.ipynb",
      "provenance": [],
      "collapsed_sections": [
        "LyWSBl0DOxJ8",
        "5qzvb1n_va3D",
        "fRXqCrBOmwAX"
      ]
    },
    "kernelspec": {
      "name": "Python 3.6.5 64-bit",
      "display_name": "Python 3.6.5 64-bit",
      "metadata": {
        "interpreter": {
          "hash": "4c65b98e956c6ae24f8ae0bc56d1e465ff92310dbdec0a4bd6b48ffdf1441c98"
        }
      }
    }
  },
  "cells": [
    {
      "cell_type": "markdown",
      "metadata": {
        "id": "FMqboNwO4rVs"
      },
      "source": [
        "# **Курс \"Програмування на мові Python\"**\n",
        "\n",
        "##### Викладачі:\n",
        "##### Борисенко Павло Борисович\n",
        "##### Щьоголєв Максим Олегович\n"
      ]
    },
    {
      "cell_type": "markdown",
      "metadata": {
        "id": "A2T6MigL5Z06"
      },
      "source": [
        "## **Практичне зайняття №6**\n",
        "\n",
        "### Тема: \"Робота з рядками. Глибокі копії об'єктів.\""
      ]
    },
    {
      "source": [
        "### **Завдання 1 (2,5 бали)**\n",
        "\n",
        "Модель tf-pose-estimation (https://github.com/ildoonet/tf-pose-estimation) призначена для розпізнавання 18 ключових точок на тілі людини. Кожна точка розпізнається з певною достовірністю, що вимірюється у відсотках. Модель виводить результати у вигляді рядка:\n",
        "\n",
        "```\n",
        "[BodyPart:0-(0.55, 0.17) score=0.81 BodyPart:1-(0.49, 0.27) score=0.85 BodyPart:2-(0.41, 0.26) score=0.67 \n",
        "BodyPart:3-(0.33, 0.37) score=0.72 BodyPart:4-(0.36, 0.48) score=0.78 BodyPart:5-(0.58, 0.27) score=0.81 \n",
        "BodyPart:6-(0.65, 0.38) score=0.88 BodyPart:7-(0.62, 0.48) score=0.86 BodyPart:8-(0.43, 0.48) score=0.60 \n",
        "BodyPart:9-(0.43, 0.66) score=0.67 BodyPart:10-(0.53, 0.79) score=0.56 BodyPart:11-(0.53, 0.48) score=0.56 \n",
        "BodyPart:12-(0.59, 0.66) score=0.75 BodyPart:13-(0.49, 0.80) score=0.50 BodyPart:14-(0.54, 0.15) score=0.73 \n",
        "BodyPart:15-(0.56, 0.15) score=0.85 BodyPart:16-(0.48, 0.16) score=0.81 BodyPart:17-(0.83, 0.18) score=0.79]\n",
        "```\n",
        "\n",
        "Написати програму, яка створюватиме два списки, points та scores. В першому мають послідовно зберігатися координати точок, в другому - їхні достовірності (scores). Для поданого рядка списки матимуть вигляд:\n",
        "\n",
        "```\n",
        "points = [0.55,0.17,0.49,0.27,0.41,0.26,0.33,0.37,0.36,0.48,0.58,0.27,0.65,0.38,0.62,0.48,0.43,0.48,\n",
        "0.43,0.66,0.53,0.79,0.53,0.48,0.59,0.66,0.49,0.80,0.54,0.15,0.56,0.15,0.48,0.16,0.83,0.18]\n",
        "scores = [0.81,0.85,0.67,0.72,0.78,0.81,0.88,0.86,0.60,0.67,0.56,0.56,0.75,0.50,0.73,0.85,0.81,0.79]\n",
        "```\n",
        "\n",
        "1. Кількість розпізнаних точок може коливатись у межах від 0 до 18.\n",
        "\n",
        "2. Під час оцінювання коду враховуватиметься його оптимальність.\n",
        "\n",
        "3. У змінній pose_estimation зберігається тестовий рядок. Для перевірки роботи можуть використовуватись інші рядки такого ж формату."
      ],
      "cell_type": "markdown",
      "metadata": {}
    },
    {
      "cell_type": "code",
      "execution_count": 150,
      "metadata": {},
      "outputs": [
        {
          "output_type": "stream",
          "name": "stdout",
          "text": [
            "['0-(0.55, 0.17)', '0.81 ']\n['1-(0.49, 0.27)', '0.85 ']\n['2-(0.41, 0.26)', '0.67 ']\n['3-(0.33, 0.37)', '0.72 ']\n['4-(0.36, 0.48)', '0.78 ']\n['5-(0.58, 0.27)', '0.81 ']\n['6-(0.65, 0.38)', '0.88 ']\n['7-(0.62, 0.48)', '0.86 ']\n['8-(0.43, 0.48)', '0.60 ']\n['9-(0.43, 0.66)', '0.67 ']\n['10-(0.53, 0.79)', '0.56 ']\n['11-(0.53, 0.48)', '0.56 ']\n['12-(0.59, 0.66)', '0.75 ']\n['13-(0.49, 0.80)', '0.50 ']\n['14-(0.54, 0.15)', '0.73 ']\n['15-(0.56, 0.15)', '0.85 ']\n['16-(0.48, 0.16)', '0.81 ']\n['17-(0.83, 0.18)', '0.79]']\n['0-(0.55, 0.17) score=0.81 ', '1-(0.49, 0.27) score=0.85 ', '2-(0.41, 0.26) score=0.67 ', '3-(0.33, 0.37) score=0.72 ', '4-(0.36, 0.48) score=0.78 ', '5-(0.58, 0.27) score=0.81 ', '6-(0.65, 0.38) score=0.88 ', '7-(0.62, 0.48) score=0.86 ', '8-(0.43, 0.48) score=0.60 ', '9-(0.43, 0.66) score=0.67 ', '10-(0.53, 0.79) score=0.56 ', '11-(0.53, 0.48) score=0.56 ', '12-(0.59, 0.66) score=0.75 ', '13-(0.49, 0.80) score=0.50 ', '14-(0.54, 0.15) score=0.73 ', '15-(0.56, 0.15) score=0.85 ', '16-(0.48, 0.16) score=0.81 ', '17-(0.83, 0.18) score=0.79]']\n"
          ]
        }
      ],
      "source": [
        "pose_estimation = \"[BodyPart:0-(0.55, 0.17) score=0.81 BodyPart:1-(0.49, 0.27) score=0.85 BodyPart:2-(0.41, 0.26) score=0.67 BodyPart:3-(0.33, 0.37) score=0.72 BodyPart:4-(0.36, 0.48) score=0.78 BodyPart:5-(0.58, 0.27) score=0.81 BodyPart:6-(0.65, 0.38) score=0.88 BodyPart:7-(0.62, 0.48) score=0.86 BodyPart:8-(0.43, 0.48) score=0.60 BodyPart:9-(0.43, 0.66) score=0.67 BodyPart:10-(0.53, 0.79) score=0.56 BodyPart:11-(0.53, 0.48) score=0.56 BodyPart:12-(0.59, 0.66) score=0.75 BodyPart:13-(0.49, 0.80) score=0.50 BodyPart:14-(0.54, 0.15) score=0.73 BodyPart:15-(0.56, 0.15) score=0.85 BodyPart:16-(0.48, 0.16) score=0.81 BodyPart:17-(0.83, 0.18) score=0.79]\"\n",
        "\n",
        "pose_estimation = pose_estimation.split('BodyPart:')\n",
        "del pose_estimation[0]\n",
        "i = 0\n",
        "while i != 18:\n",
        "    for item in pose_estimation:\n",
        "        item = pose_estimation[i].split(' score=')\n",
        "        i += 1\n",
        "        print(item)\n",
        "print(pose_estimation)\n",
        "\n"
      ]
    },
    {
      "source": [
        "### **Завдання 2 (0,5 бал)**\n",
        "\n",
        "Створіть рядок формату, що дозволить отримати дані з кортежу format_tuple та вивести рядок:\n",
        "\n",
        "```\n",
        "The initial lot price of $358.4 at the Liverpool auction exceeded the expected price by 21%, \n",
        "but the lot with number 0134 was nevertheless sold for $845.\n",
        "```\n",
        "\n",
        "У рядку формату мають бути 7 заповнювачів. Кортеж format_list в процесі роботи змінювани не можна."
      ],
      "cell_type": "markdown",
      "metadata": {}
    },
    {
      "cell_type": "code",
      "execution_count": 16,
      "metadata": {},
      "outputs": [
        {
          "output_type": "error",
          "ename": "KeyError",
          "evalue": "'round(format_tuple'",
          "traceback": [
            "\u001b[1;31m---------------------------------------------------------------------------\u001b[0m",
            "\u001b[1;31mKeyError\u001b[0m                                  Traceback (most recent call last)",
            "\u001b[1;32m<ipython-input-16-84b4b668756e>\u001b[0m in \u001b[0;36m<module>\u001b[1;34m\u001b[0m\n\u001b[0;32m      5\u001b[0m \u001b[0mbut\u001b[0m \u001b[0mthe\u001b[0m \u001b[0mlot\u001b[0m \u001b[1;32mwith\u001b[0m \u001b[0mnumber\u001b[0m \u001b[1;33m{\u001b[0m\u001b[0mstr\u001b[0m\u001b[1;33m(\u001b[0m\u001b[0mformat_tuple\u001b[0m\u001b[1;33m[\u001b[0m\u001b[1;36m3\u001b[0m\u001b[1;33m]\u001b[0m\u001b[1;33m)\u001b[0m\u001b[1;33m.\u001b[0m\u001b[0mzfill\u001b[0m\u001b[1;33m(\u001b[0m\u001b[1;36m4\u001b[0m\u001b[1;33m)\u001b[0m\u001b[1;33m}\u001b[0m \u001b[0mwas\u001b[0m \u001b[0mnevertheless\u001b[0m \u001b[0msold\u001b[0m \u001b[1;32mfor\u001b[0m\u001b[0;31m \u001b[0m\u001b[0;31m$\u001b[0m\u001b[1;33m{\u001b[0m\u001b[0mint\u001b[0m\u001b[1;33m(\u001b[0m\u001b[0mformat_tuple\u001b[0m\u001b[1;33m[\u001b[0m\u001b[1;36m1\u001b[0m\u001b[1;33m]\u001b[0m\u001b[1;33m)\u001b[0m\u001b[1;33m}\u001b[0m\u001b[1;33m.\u001b[0m\u001b[1;33m\u001b[0m\u001b[0m\n\u001b[0;32m      6\u001b[0m '''\n\u001b[1;32m----> 7\u001b[1;33m \u001b[0mprint\u001b[0m\u001b[1;33m(\u001b[0m\u001b[0mformat_string\u001b[0m\u001b[1;33m.\u001b[0m\u001b[0mformat\u001b[0m\u001b[1;33m(\u001b[0m\u001b[0mformat_tuple\u001b[0m\u001b[1;33m[\u001b[0m\u001b[1;36m0\u001b[0m\u001b[1;33m]\u001b[0m\u001b[1;33m,\u001b[0m \u001b[0mformat_tuple\u001b[0m\u001b[1;33m[\u001b[0m\u001b[1;36m1\u001b[0m\u001b[1;33m]\u001b[0m\u001b[1;33m,\u001b[0m \u001b[0mformat_tuple\u001b[0m\u001b[1;33m[\u001b[0m\u001b[1;36m2\u001b[0m\u001b[1;33m]\u001b[0m\u001b[1;33m,\u001b[0m \u001b[0mformat_tuple\u001b[0m\u001b[1;33m[\u001b[0m\u001b[1;36m3\u001b[0m\u001b[1;33m]\u001b[0m\u001b[1;33m,\u001b[0m \u001b[0mformat_tuple\u001b[0m\u001b[1;33m[\u001b[0m\u001b[1;36m4\u001b[0m\u001b[1;33m]\u001b[0m\u001b[1;33m,\u001b[0m \u001b[0mformat_tuple\u001b[0m\u001b[1;33m[\u001b[0m\u001b[1;36m5\u001b[0m\u001b[1;33m]\u001b[0m\u001b[1;33m)\u001b[0m\u001b[1;33m)\u001b[0m\u001b[1;33m\u001b[0m\u001b[0m\n\u001b[0m",
            "\u001b[1;31mKeyError\u001b[0m: 'round(format_tuple'"
          ]
        }
      ],
      "source": [
        "format_tuple = ('Liverpool', 845.15, 21, 134, 358.45, 'price')\n",
        "\n",
        "format_string = '''\n",
        "The initial lot {5} of ${round(format_tuple[4], 1)} at the {0} auction exceeded the expected {5} by {2}%, \n",
        "but the lot with number {str(format_tuple[3]).zfill(4)} was nevertheless sold for ${int(format_tuple[1])}.\n",
        "'''\n",
        "print(format_string.format(format_tuple[0], format_tuple[1], format_tuple[2], format_tuple[3], format_tuple[4], format_tuple[5]))"
      ]
    },
    {
      "cell_type": "code",
      "execution_count": 12,
      "metadata": {},
      "outputs": [
        {
          "output_type": "stream",
          "name": "stdout",
          "text": [
            "\nThe initial lot price of $358.4 at the Liverpool auction exceeded the expected price by 21%, \nbut the lot with number 0134 was nevertheless sold for $845.\n\n"
          ]
        }
      ],
      "source": [
        "format_list = ['Liverpool', 845.15, 21, 134, 358.45, 'price']\n",
        "format_list[1] = int(round(format_list[1], 0))\n",
        "format_list[3] = str(format_list[3]).zfill(4)\n",
        "format_list[4] = round(format_list[4], 1)\n",
        "\n",
        "format_string = '''\n",
        "The initial lot {5} of ${4} at the {0} auction exceeded the expected {5} by {2}%, \n",
        "but the lot with number {3} was nevertheless sold for ${1}.\n",
        "'''\n",
        "print(format_string.format(format_list[0], format_list[1], format_list[2], format_list[3], format_list[4], format_list[5]))\n"
      ]
    },
    {
      "cell_type": "code",
      "execution_count": null,
      "metadata": {},
      "outputs": [],
      "source": []
    }
  ]
}