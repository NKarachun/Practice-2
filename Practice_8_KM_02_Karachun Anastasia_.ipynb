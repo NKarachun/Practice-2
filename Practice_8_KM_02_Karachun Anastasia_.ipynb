{
  "nbformat": 4,
  "nbformat_minor": 0,
  "metadata": {
    "colab": {
      "name": "Practice_7_KM-01_.ipynb",
      "provenance": [],
      "collapsed_sections": []
    },
    "kernelspec": {
      "name": "python3",
      "display_name": "Python 3.6.5 64-bit",
      "metadata": {
        "interpreter": {
          "hash": "4c65b98e956c6ae24f8ae0bc56d1e465ff92310dbdec0a4bd6b48ffdf1441c98"
        }
      }
    }
  },
  "cells": [
    {
      "cell_type": "markdown",
      "metadata": {
        "id": "FMqboNwO4rVs"
      },
      "source": [
        "# **Курс \"Програмування на мові Python\"**\n",
        "\n",
        "##### Викладачі:\n",
        "##### Борисенко Павло Борисович\n",
        "##### Щьоголєв Максим Олегович\n"
      ]
    },
    {
      "cell_type": "markdown",
      "metadata": {
        "id": "A2T6MigL5Z06"
      },
      "source": [
        "## **Практичне зайняття №8**\n",
        "\n",
        "### Тема: \"Робота з функціями. Локальні та глобальні змінні\""
      ]
    },
    {
      "cell_type": "markdown",
      "metadata": {
        "id": "cfCdgK2zXm7e"
      },
      "source": [
        "### **Завдання 1 (3 бали)**\n",
        "\n",
        "**Підрахувати визначник матриці, використовуючи правило перестановок.**\n",
        "\n",
        "Функція random_matrix() призначена для створення квадратної матриці випадкових чисел. Її змінювати непотрібно.\n",
        "\n",
        "Приклад використання методу permutations() для створення списку перестановок також подається у комірці з кодом.\n",
        "\n",
        "1) Створити 3 функції: функцію створення списку перестановок, функцію підрахунку добутків та функцію підрахунку загальної суми.\n",
        "\n",
        "2) Кожна функція має супроводжуватись рядком документації, що буде коротко описувати її призначення.\n",
        "\n",
        "3) Розмірність квадратної матриці має вводитись користувачем з клавіатури. Підрахунки виконувати лише в тому разі, якщо користувач введе ціле додатне число.\n",
        "\n",
        "4) Загальний результат повинен підраховуватись за допомогою композиції функцій.\n",
        "\n",
        "За бажання можна перевірити правильність роботи програми за допомогою функції np.linalg.det(a)."
      ]
    },
    {
      "cell_type": "code",
      "metadata": {
        "id": "ifNX2M7LXm7f"
      },
      "source": [
        "import numpy as np\n",
        "import itertools\n",
        "\n",
        "def random_matrix(dim):\n",
        "    \"\"\"\n",
        "    The function generates dim x dim array of integers\n",
        "    between 0 and 10.\n",
        "    \"\"\"\n",
        "    matrix = np.random.randint(10, size = (dim, dim))\n",
        "    return matrix\n",
        "\n",
        "def permutations(dim):\n",
        "    \"\"\"\n",
        "    The function generetes all permutations in range from 1 to dim.\n",
        "    \"\"\"\n",
        "    str\n",
        "    t = list(itertools.permutations('', dim))\n",
        "    return t\n",
        "\n",
        "\n",
        "\n",
        "def compositions():\n",
        "    \"\"\"\n",
        "    The function generetes all compositions of permutations in range from 1 to dim.\n",
        "    \"\"\"\n",
        "    \n",
        "\n",
        "def summa():\n",
        "    \"\"\"\n",
        "    The function generetes summa of all compositions.\n",
        "    \"\"\"\n",
        "\n",
        "\n",
        "\n",
        "n = input('Enter n: ')\n",
        "\n",
        "try:\n",
        "    n = int(n)\n",
        "except ValueError:\n",
        "    print('It has to be an integer number!')\n",
        "    n = int(input('Enter n: '))\n",
        "\n",
        "try:\n",
        "    if n <= 0:\n",
        "        raise ValueError('The number has to be more than zero!')\n",
        "except ValueError as ve:\n",
        "    print(ve)\n",
        "    n = int(input('Enter n: '))\n",
        "\n",
        "print(random_matrix(n))\n",
        "\n",
        "# print(summa(compositions(permutations(n)))"
      ],
      "execution_count": 26,
      "outputs": [
        {
          "output_type": "stream",
          "name": "stdout",
          "text": [
            "It has to be an integer number!\n",
            "The number has to be more than zero!\n",
            "[[5 5 8 1 6]\n",
            " [1 0 9 2 1]\n",
            " [8 3 1 7 0]\n",
            " [5 1 9 2 4]\n",
            " [7 5 7 0 7]]\n"
          ]
        }
      ]
    },
    {
      "cell_type": "code",
      "execution_count": null,
      "metadata": {},
      "outputs": [],
      "source": []
    }
  ]
}