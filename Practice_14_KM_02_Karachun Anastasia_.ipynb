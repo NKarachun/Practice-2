{
  "nbformat": 4,
  "nbformat_minor": 0,
  "metadata": {
    "colab": {
      "name": "Practice_14_KM_01.ipynb",
      "provenance": [],
      "collapsed_sections": []
    },
    "kernelspec": {
      "name": "python3",
      "display_name": "Python 3.6.5 64-bit",
      "metadata": {
        "interpreter": {
          "hash": "4c65b98e956c6ae24f8ae0bc56d1e465ff92310dbdec0a4bd6b48ffdf1441c98"
        }
      }
    }
  },
  "cells": [
    {
      "cell_type": "markdown",
      "metadata": {
        "id": "FMqboNwO4rVs"
      },
      "source": [
        "# **Курс \"Програмування на мові Python\"**\n",
        "\n",
        "##### Викладачі:\n",
        "##### Борисенко Павло Борисович\n",
        "##### Щьоголєв Максим Олегович\n"
      ]
    },
    {
      "cell_type": "markdown",
      "metadata": {
        "id": "A2T6MigL5Z06"
      },
      "source": [
        "## **Практичне зайняття №14**\n",
        "\n",
        "### Тема: \"Робота з файлами\""
      ]
    },
    {
      "cell_type": "markdown",
      "metadata": {
        "id": "cfCdgK2zXm7e"
      },
      "source": [
        "### **Завдання 1 (1,5 бали)**\n",
        "\n",
        "У 1939 році друком вийшов роман американського письменика Ернеста Вінсента Райта \"Ґедсбі\". Особливу увагу публіки він здобув через те, що письменник жодного разу не використав у романі літеру \"e\" (роман складається з більше ніж 50,000 слів), яка є найбільш вживаною літерою в англійській мові.\n",
        "\n",
        "Порахуйте кількість входжень кожної літери у текст роману. Виведіть список літер англійського алфавіту, а також інформацію про те, скільки відсотків від усіх літер тексту складає кожна літера алфавіту.\n",
        "\n",
        "Зауваження:\n",
        "\n",
        "1. Програма має ігнорувати будь-які символи, окрім літер.\n",
        "\n",
        "2. Переведіть усі літери у верхній або у нижній регістр.\n",
        "\n",
        "3. Під час виведення відсортуйте літери у порядку зменшення їхнього відсотка. Літера \"e\" має стояти на останньому місці у цьому списку.\n",
        "\n",
        "4. Виведіть перші 5 та останні 5 літер відсортованого списку разом з відсотковими значеннями, що їм відповідають."
      ]
    },
    {
      "cell_type": "code",
      "metadata": {
        "tags": [],
        "id": "u4-fHJJ6U462"
      },
      "source": [
        "import string\n",
        "\n",
        "file = open('gadsby.txt', 'r')\n",
        "lines = [line.lower() for line in file]\n",
        "file.close()\n",
        "alphabet = list(string.ascii_lowercase)\n",
        "lines = [i.rstrip('\\n') for i in lines]\n",
        "text = []\n",
        "for i in range(0, len(lines)):\n",
        "    for j in range(0, len(lines[i])):\n",
        "        if lines[i][j].isalpha():\n",
        "            text.append(lines[i][j])\n",
        "sum = len(text)\n",
        "dictionary = dict.fromkeys(alphabet)\n",
        "for i in alphabet:\n",
        "    k = text.count(i)\n",
        "    m = round((k / sum) * 100, 3)\n",
        "    dictionary[i] = m\n",
        "\n",
        "lst = list(dictionary.items())\n",
        "lst.sort(key=lambda i: i[1])\n",
        "new_lst = list(reversed(lst))\n",
        "for i in new_lst:\n",
        "    print(i[0], ':', i[1], '%')\n",
        "print()\n",
        "print('Top 5 letters in \"Gadsby\":')\n",
        "for i in range(0, 5):\n",
        "    print(new_lst[i][0],':', new_lst[i][1], '%')\n",
        "print()\n",
        "print('Least 5 letter in \"Gadsby\":')\n",
        "for i in range(0, 5):\n",
        "     print(lst[i][0],':', lst[i][1], '%')\n",
        "\n"
      ],
      "execution_count": 96,
      "outputs": [
        {
          "output_type": "stream",
          "name": "stdout",
          "text": [
            "a : 10.894 %\no : 10.371 %\ni : 8.791 %\nn : 8.561 %\nt : 8.531 %\ns : 6.956 %\nl : 5.292 %\nh : 4.916 %\nr : 4.786 %\nu : 4.131 %\nd : 4.105 %\ng : 3.569 %\ny : 3.166 %\nw : 2.787 %\nc : 2.669 %\nf : 2.149 %\nb : 2.126 %\nm : 2.089 %\np : 1.908 %\nk : 1.168 %\nv : 0.336 %\ne : 0.234 %\nj : 0.225 %\nz : 0.107 %\nx : 0.081 %\nq : 0.053 %\n\nTop 5 letters in \"Gadsby\":\na : 10.894 %\no : 10.371 %\ni : 8.791 %\nn : 8.561 %\nt : 8.531 %\n\nLeast 5 letter in \"Gadsby\":\nq : 0.053 %\nx : 0.081 %\nz : 0.107 %\nj : 0.225 %\ne : 0.234 %\n"
          ]
        }
      ]
    },
    {
      "cell_type": "markdown",
      "metadata": {
        "id": "A34oz70eU463"
      },
      "source": [
        "### **Завдання 2 (1,5 бали)**\n",
        "\n",
        "Створіть CSV-файл, що буде містити від 5 до 10 пісень (творів) вашого улюбленого музиканта. Назва файлу - ім'я музиканта (композитора) або назва гурту.\n",
        "\n",
        "1. Обов'язково додайте до файлу рядок з назвами двох колонок (Song, Year) або (Composition, Year).\n",
        "\n",
        "2. Після запису файлу роздрукуйте назву файлу та усі наявні у файлі рядки (включно із заголовками).\n",
        "\n",
        "3. Для запису та зчитування рядків скористайтесь функціями csv.DictWriter() та csv.DictReader()."
      ]
    },
    {
      "cell_type": "code",
      "metadata": {
        "id": "MEJIrG1GU463"
      },
      "source": [
        "import csv\n",
        "\n",
        "\n",
        "with open('Billie_Eilish.csv', 'w', newline='') as csvfile:\n",
        "    fieldnames = ['Song', 'Year']\n",
        "    writer = csv.DictWriter(csvfile, fieldnames=fieldnames)\n",
        "    writer.writeheader()\n",
        "    writer.writerow({'Song': 'Everything i wanted',\n",
        "                     'Year': '2019'})\n",
        "    writer.writerow({'Song': 'Copycat',\n",
        "                     'Year': '2017'})\n",
        "    writer.writerow({'Song': 'Listen before i go',\n",
        "                     'Year': '2019'})\n",
        "    writer.writerow({'Song': 'My strange addiction',\n",
        "                     'Year': '2019'})\n",
        "    writer.writerow({'Song': 'Six feet under',\n",
        "                     'Year': '2016'})\n",
        "    writer.writerow({'Song': 'Bored',\n",
        "                     'Year': '2017'})\n",
        "    writer.writerow({'Song': 'No time to die',\n",
        "                     'Year': '2020'})\n",
        "\n",
        "with open('Billie_Eilish.csv', newline='') as csvfile:\n",
        "    reader = csv.DictReader(csvfile)\n",
        "    for row in reader:\n",
        "        print(row)"
      ],
      "execution_count": 62,
      "outputs": [
        {
          "output_type": "stream",
          "name": "stdout",
          "text": [
            "OrderedDict([('Song', 'Everything i wanted'), ('Year', '2019')])\nOrderedDict([('Song', 'Copycat'), ('Year', '2017')])\nOrderedDict([('Song', 'Listen before i go'), ('Year', '2019')])\nOrderedDict([('Song', 'My strange addiction'), ('Year', '2019')])\nOrderedDict([('Song', 'Six feet under'), ('Year', '2016')])\nOrderedDict([('Song', 'Bored'), ('Year', '2017')])\nOrderedDict([('Song', 'No time to die'), ('Year', '2020')])\n"
          ]
        }
      ]
    },
    {
      "cell_type": "markdown",
      "metadata": {
        "id": "Jb-eSBsWU464"
      },
      "source": [
        "### **Завдання 3 (бонусне, 1 бал)**\n",
        "\n",
        "COCO Dataset - набір фотографій та анотацій до них. Його дуже часто використовують для тренування класифікаторів, призначених для розпізнавання об'єктів та визначення ключових точок на зображеннях.\n",
        "\n",
        "Завантажте файли з описом фотографій COCO Dataset за посиланням: http://images.cocodataset.org/annotations/image_info_test2017.zip\n",
        "\n",
        "1. Відкрийте файл image_info_test-dev2017.json. Інформація про фотографії з бази COCO міститься у полі \"images\". Інформація про категорії, на які розділені всі фотографії, міститься у полі \"categories\".\n",
        "\n",
        "2. Визначте кількість фотографій, інформацію про які можна знайти у цьому файлі (кількість елементів, що відповідають ключу \"images\").\n",
        "\n",
        "3. Визначте кількість наявних категорій (кількість елементів, що відповідають ключу \"categories\").\n",
        "\n",
        "4. Виведіть посилання на фотографію 000000000001.jpg (\"coco_url\"), висоту цієї фотографії (\"height\"), ширину (\"width\") та її ідентифікатор (\"id\").\n",
        "\n",
        "5. Опис структури JSON-файлу для набору фотографій COCO можна знайти за посиланням: https://cocodataset.org/#format-data\n",
        "\n",
        "6. Щоб перевірити правильність результатів, у VS Code встановіть розширення JSON та відкрийте файл image_info_test-dev2017.json. Розширення автоматично визначає кількість елементів у кожному полі."
      ]
    },
    {
      "cell_type": "code",
      "metadata": {
        "id": "74C6WKB_U464"
      },
      "source": [],
      "execution_count": null,
      "outputs": []
    }
  ]
}