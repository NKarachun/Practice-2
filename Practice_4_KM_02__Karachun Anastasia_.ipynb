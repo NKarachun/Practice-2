{
  "nbformat": 4,
  "nbformat_minor": 0,
  "metadata": {
    "colab": {
      "name": "Pranctice_3_KM-01_<name>.ipynb",
      "provenance": [],
      "collapsed_sections": []
    },
    "kernelspec": {
      "name": "Python 3.6.5 64-bit",
      "display_name": "Python 3.6.5 64-bit",
      "metadata": {
        "interpreter": {
          "hash": "4c65b98e956c6ae24f8ae0bc56d1e465ff92310dbdec0a4bd6b48ffdf1441c98"
        }
      }
    }
  },
  "cells": [
    {
      "cell_type": "markdown",
      "metadata": {
        "id": "1bRxWHr5e8kt"
      },
      "source": [
        "# **Курс \"Програмування на мові Python\"**\n",
        "\n",
        "##### Викладачі:\n",
        "##### Борисенко Павло Борисович\n",
        "##### Щьоголєв Максим Олегович"
      ]
    },
    {
      "cell_type": "markdown",
      "metadata": {
        "id": "buZUwUgFe-kx"
      },
      "source": [
        "## **Практичне зайняття №4**\n",
        "### Тема: \"Цикли. Робота зі списками\""
      ]
    },
    {
      "cell_type": "markdown",
      "metadata": {
        "id": "PUkxEn8EfAUe"
      },
      "source": [
        "### **Завдання 1 (1,5 бали)**\n",
        "\n"
      ]
    },
    {
      "source": [
        "Продавець роздрібного товару влаштовує розпродаж. Для всіх товарів знижка однакова - 60%. Щоб вивісити нові цінники, продавець хоче скласти таблицю, в якій для кожного товару буде підрахована його нова вартість та сума знижки.\n",
        "\n",
        "Написати програму, яка буде генерувати таку таблицю. Вартість одиниць товарів до розпродажу подано у списку products_list. \n",
        "\n",
        "1. Для підрахунку невідомих значень та їх виведення повинен використовуватись цикл.\n",
        "\n",
        "2. Вартість з урахуванням знижки та суми знижок для кожного товару повинні зберігатись у двох окремих списках. Порядок товарів у нових списках повинен бути такий самий, як і в списку products_list.\n",
        "\n",
        "3. Кожне підраховане числове значення має бути округлене до сотих. Для цього слід використати функцію round(). Приклад застосування цієї функції:\n",
        "\n",
        "```\n",
        "value_new = round(2.3741, 2)\n",
        "print(value_new)\n",
        "```\n",
        "\n",
        "4. Дані повинні виводитись у вигляді:\n",
        "\n",
        "**Discount table:**\n",
        "\n",
        "**29.25 11.7 17.55**\n",
        "\n",
        "**48.99 19.6 29.39**\n",
        "\n",
        "**...**\n",
        "\n",
        "\n",
        "products_list = [[29.25, 48.99, 99.98, 124.65, 214.30, 543.90, 799.85]]"
      ],
      "cell_type": "markdown",
      "metadata": {}
    },
    {
      "cell_type": "code",
      "execution_count": 9,
      "metadata": {},
      "outputs": [
        {
          "output_type": "stream",
          "name": "stdout",
          "text": [
            "New price list:  \n\n17.55 29.39 59.99 74.79 128.58 326.34 479.91 \n\nDiscount list:  \n\n11.7 19.6 39.99 49.86 85.72 217.56 319.94 \n\nDiscount table: \n\n29.25   11.7   17.55 \n\n48.99   19.6   29.39 \n\n99.98   39.99   59.99 \n\n124.65   49.86   74.79 \n\n214.3   85.72   128.58 \n\n543.9   217.56   326.34 \n\n799.85   319.94   479.91 \n\nproducts_list =  [29.25, 48.99, 99.98, 124.65, 214.3, 543.9, 799.85]\n"
          ]
        }
      ],
      "source": [
        "products_list = [29.25, 48.99, 99.98, 124.65, 214.30, 543.90, 799.85]\n",
        "new_price_list = []\n",
        "print('New price list: ', \"\\n\")\n",
        "for i in products_list:\n",
        "    new_price_list = round(i * 0.6, 2)\n",
        "    print(new_price_list, end = ' ')\n",
        "print('\\n')\n",
        "discount_list = []\n",
        "print('Discount list: ', \"\\n\")\n",
        "for i in products_list:\n",
        "    discount_list = round(i * 0.4, 2)\n",
        "    print(discount_list, end = ' ')\n",
        "print('\\n')\n",
        "print('Discount table:', \"\\n\")\n",
        "for i in products_list:\n",
        "    discount = round(i * 0.4, 2)\n",
        "    new_price = round(i * 0.6, 2)\n",
        "    print(i, \" \", discount, \" \", new_price, '\\n')\n",
        "print('products_list = ', products_list)\n"
      ]
    },
    {
      "source": [
        "### **Завдання 2 (1,5 бали)**"
      ],
      "cell_type": "markdown",
      "metadata": {}
    },
    {
      "cell_type": "code",
      "execution_count": null,
      "metadata": {},
      "outputs": [],
      "source": []
    },
    {
      "cell_type": "markdown",
      "metadata": {
        "id": "4n4p_pz7gFKM"
      },
      "source": [
        "Перелічуючи деякі предмети у тексті, ми ставимо між ними коми. В англійській мові слово and зазвичай ставлять між останнім та передостаннім словом у переліку (за виключенням випадку, коли у списку всього одне слово). Також в англійській мові прийнято ставити кому перед and (оксфордська кома), якщо в переліку більше двох найменувань. Розглянемо 4 приклади:\n",
        "\n",
        "**apples**\n",
        "\n",
        "**apples and oranges**\n",
        "\n",
        "**apples, oranges, and bananas**\n",
        "\n",
        "**apples, oranges, bananas, and lemons**\n",
        "\n",
        "Напишіть програму, яка:\n",
        "\n",
        "1. отримує на вхід перелік деяких предметів, які користувач вводить з клавіатури, та записує їх у список у вигляді окремих елементів;\n",
        "\n",
        "2. виводить ці предмети у тій самій послідовності, в якій вони були введені, розставляючи коми та слово and так, як показано у прикладі."
      ]
    },
    {
      "source": [
        "a = \"\"\n",
        "words = []\n",
        "while True:\n",
        "    a = input(\"Your word:\")\n",
        "    if a == \"\":\n",
        "        break\n",
        "    else:\n",
        "        words.append(a)\n",
        "length = len(words)\n",
        "if length == 1:\n",
        "    print(words[0])\n",
        "elif length == 2:\n",
        "    print(words[0] +\" \" + \"and\" + \" \" + words[1])\n",
        "else:\n",
        "    words.insert(-1, \"and\")\n",
        "    for i in range(0, length + 1):\n",
        "        if i == length or i == length - 1:\n",
        "            print(words[i], end = \" \")\n",
        "        else: \n",
        "            print(words[i] + \", \", end = \" \")"
      ],
      "cell_type": "code",
      "metadata": {},
      "execution_count": 6,
      "outputs": [
        {
          "output_type": "stream",
          "name": "stdout",
          "text": [
            "Happy,  lucky,  and lovely "
          ]
        }
      ]
    },
    {
      "cell_type": "code",
      "execution_count": null,
      "metadata": {},
      "outputs": [],
      "source": []
    }
  ]
}